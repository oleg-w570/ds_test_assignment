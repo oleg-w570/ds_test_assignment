{
 "cells": [
  {
   "cell_type": "code",
   "execution_count": 1,
   "metadata": {},
   "outputs": [],
   "source": [
    "import numpy as np\n",
    "import pandas as pd\n",
    "import seaborn as sns"
   ]
  },
  {
   "cell_type": "markdown",
   "metadata": {},
   "source": [
    "Будем решать задачу на определение дату следующего ТО и пробега на эту дату по некоторым характеристикам автомобилей. Для начала загрузим обучающие и тестовые данные."
   ]
  },
  {
   "cell_type": "code",
   "execution_count": 2,
   "metadata": {},
   "outputs": [],
   "source": [
    "train_data_raw = pd.read_csv('train.csv', delimiter=';', index_col=0)\n",
    "test_data_raw = pd.read_csv('test.csv', delimiter=';', index_col=0)"
   ]
  },
  {
   "cell_type": "markdown",
   "metadata": {},
   "source": [
    "## Первичная обработка"
   ]
  },
  {
   "cell_type": "markdown",
   "metadata": {},
   "source": [
    "Объединим их на время обработки в одну таблицу, чтобы модифицировать их одновременно. После сможем просто отделить их по значению is_train."
   ]
  },
  {
   "cell_type": "code",
   "execution_count": 3,
   "metadata": {},
   "outputs": [],
   "source": [
    "train_data_raw['is_train'] = True\n",
    "test_data_raw['is_train'] = False\n",
    "\n",
    "data = pd.concat([train_data_raw, test_data_raw], ignore_index=True)"
   ]
  },
  {
   "cell_type": "markdown",
   "metadata": {},
   "source": [
    "Переименуем названия колонок, чтобы было проще и быстрее к ним обращаться."
   ]
  },
  {
   "cell_type": "code",
   "execution_count": 4,
   "metadata": {},
   "outputs": [],
   "source": [
    "data.columns = ['model', 'brand', 'vin', 'visit_mileage', 'year', 'visit_date', 'service_interval', 'is_service', 'is_train']"
   ]
  },
  {
   "cell_type": "markdown",
   "metadata": {},
   "source": [
    "Посмотрим некоторую информацию таблицы и вообще что она из себя представляет."
   ]
  },
  {
   "cell_type": "code",
   "execution_count": 5,
   "metadata": {},
   "outputs": [
    {
     "data": {
      "text/html": [
       "<div>\n",
       "<style scoped>\n",
       "    .dataframe tbody tr th:only-of-type {\n",
       "        vertical-align: middle;\n",
       "    }\n",
       "\n",
       "    .dataframe tbody tr th {\n",
       "        vertical-align: top;\n",
       "    }\n",
       "\n",
       "    .dataframe thead th {\n",
       "        text-align: right;\n",
       "    }\n",
       "</style>\n",
       "<table border=\"1\" class=\"dataframe\">\n",
       "  <thead>\n",
       "    <tr style=\"text-align: right;\">\n",
       "      <th></th>\n",
       "      <th>model</th>\n",
       "      <th>brand</th>\n",
       "      <th>vin</th>\n",
       "      <th>visit_mileage</th>\n",
       "      <th>year</th>\n",
       "      <th>visit_date</th>\n",
       "      <th>service_interval</th>\n",
       "      <th>is_service</th>\n",
       "      <th>is_train</th>\n",
       "    </tr>\n",
       "  </thead>\n",
       "  <tbody>\n",
       "    <tr>\n",
       "      <th>0</th>\n",
       "      <td>LADA Largus Caravan (7м)</td>\n",
       "      <td>LADA</td>\n",
       "      <td>27837</td>\n",
       "      <td>29 644</td>\n",
       "      <td>01.01.2014 0:00:00</td>\n",
       "      <td>03.08.2015 0:00:00</td>\n",
       "      <td>15 000</td>\n",
       "      <td>Нет</td>\n",
       "      <td>True</td>\n",
       "    </tr>\n",
       "    <tr>\n",
       "      <th>1</th>\n",
       "      <td>LADA Largus Caravan (7м)</td>\n",
       "      <td>LADA</td>\n",
       "      <td>27837</td>\n",
       "      <td>29 644</td>\n",
       "      <td>01.01.2014 0:00:00</td>\n",
       "      <td>06.08.2015 0:00:00</td>\n",
       "      <td>15 000</td>\n",
       "      <td>Да</td>\n",
       "      <td>True</td>\n",
       "    </tr>\n",
       "    <tr>\n",
       "      <th>2</th>\n",
       "      <td>LADA Largus Caravan (7м)</td>\n",
       "      <td>LADA</td>\n",
       "      <td>27837</td>\n",
       "      <td>62 152</td>\n",
       "      <td>01.01.2014 0:00:00</td>\n",
       "      <td>28.04.2016 0:00:00</td>\n",
       "      <td>15 000</td>\n",
       "      <td>Нет</td>\n",
       "      <td>True</td>\n",
       "    </tr>\n",
       "    <tr>\n",
       "      <th>3</th>\n",
       "      <td>LADA Largus Caravan (7м)</td>\n",
       "      <td>LADA</td>\n",
       "      <td>27837</td>\n",
       "      <td>104 743</td>\n",
       "      <td>01.01.2014 0:00:00</td>\n",
       "      <td>09.12.2016 0:00:00</td>\n",
       "      <td>15 000</td>\n",
       "      <td>Да</td>\n",
       "      <td>True</td>\n",
       "    </tr>\n",
       "    <tr>\n",
       "      <th>4</th>\n",
       "      <td>УАЗ Patriot 3163</td>\n",
       "      <td>УАЗ</td>\n",
       "      <td>28253</td>\n",
       "      <td>29 979</td>\n",
       "      <td>01.01.2016 0:00:00</td>\n",
       "      <td>27.01.2018 0:00:00</td>\n",
       "      <td>15 000</td>\n",
       "      <td>Да</td>\n",
       "      <td>True</td>\n",
       "    </tr>\n",
       "    <tr>\n",
       "      <th>...</th>\n",
       "      <td>...</td>\n",
       "      <td>...</td>\n",
       "      <td>...</td>\n",
       "      <td>...</td>\n",
       "      <td>...</td>\n",
       "      <td>...</td>\n",
       "      <td>...</td>\n",
       "      <td>...</td>\n",
       "      <td>...</td>\n",
       "    </tr>\n",
       "    <tr>\n",
       "      <th>119709</th>\n",
       "      <td>Toyota RAV 4 IV 5D</td>\n",
       "      <td>TOYOTA</td>\n",
       "      <td>8383</td>\n",
       "      <td>33 521</td>\n",
       "      <td>01.01.2015 0:00:00</td>\n",
       "      <td>17.10.2018 0:00:00</td>\n",
       "      <td>10 000</td>\n",
       "      <td>Да</td>\n",
       "      <td>False</td>\n",
       "    </tr>\n",
       "    <tr>\n",
       "      <th>119710</th>\n",
       "      <td>Hyundai Solaris Sedan</td>\n",
       "      <td>Hyundai</td>\n",
       "      <td>39104</td>\n",
       "      <td>25 552</td>\n",
       "      <td>01.01.2014 0:00:00</td>\n",
       "      <td>18.11.2018 0:00:00</td>\n",
       "      <td>15 000</td>\n",
       "      <td>Да</td>\n",
       "      <td>False</td>\n",
       "    </tr>\n",
       "    <tr>\n",
       "      <th>119711</th>\n",
       "      <td>Lexus NX 200T</td>\n",
       "      <td>LEXUS</td>\n",
       "      <td>5059</td>\n",
       "      <td>30 099</td>\n",
       "      <td>01.01.2016 0:00:00</td>\n",
       "      <td>01.04.2019 0:00:00</td>\n",
       "      <td>10 000</td>\n",
       "      <td>Да</td>\n",
       "      <td>False</td>\n",
       "    </tr>\n",
       "    <tr>\n",
       "      <th>119712</th>\n",
       "      <td>Toyota Land Cruiser 200</td>\n",
       "      <td>TOYOTA</td>\n",
       "      <td>7698</td>\n",
       "      <td>189 650</td>\n",
       "      <td>01.01.2013 0:00:00</td>\n",
       "      <td>15.02.2019 0:00:00</td>\n",
       "      <td>10 000</td>\n",
       "      <td>Да</td>\n",
       "      <td>False</td>\n",
       "    </tr>\n",
       "    <tr>\n",
       "      <th>119713</th>\n",
       "      <td>Toyota Land Cruiser 200</td>\n",
       "      <td>TOYOTA</td>\n",
       "      <td>7554</td>\n",
       "      <td>90 239</td>\n",
       "      <td>01.01.2016 0:00:00</td>\n",
       "      <td>09.08.2019 0:00:00</td>\n",
       "      <td>10 000</td>\n",
       "      <td>Да</td>\n",
       "      <td>False</td>\n",
       "    </tr>\n",
       "  </tbody>\n",
       "</table>\n",
       "<p>119714 rows × 9 columns</p>\n",
       "</div>"
      ],
      "text/plain": [
       "                           model    brand    vin visit_mileage  \\\n",
       "0       LADA Largus Caravan (7м)     LADA  27837        29 644   \n",
       "1       LADA Largus Caravan (7м)     LADA  27837        29 644   \n",
       "2       LADA Largus Caravan (7м)     LADA  27837        62 152   \n",
       "3       LADA Largus Caravan (7м)     LADA  27837       104 743   \n",
       "4               УАЗ Patriot 3163      УАЗ  28253        29 979   \n",
       "...                          ...      ...    ...           ...   \n",
       "119709        Toyota RAV 4 IV 5D   TOYOTA   8383        33 521   \n",
       "119710     Hyundai Solaris Sedan  Hyundai  39104        25 552   \n",
       "119711             Lexus NX 200T    LEXUS   5059        30 099   \n",
       "119712   Toyota Land Cruiser 200   TOYOTA   7698       189 650   \n",
       "119713   Toyota Land Cruiser 200   TOYOTA   7554        90 239   \n",
       "\n",
       "                      year          visit_date service_interval is_service  \\\n",
       "0       01.01.2014 0:00:00  03.08.2015 0:00:00           15 000        Нет   \n",
       "1       01.01.2014 0:00:00  06.08.2015 0:00:00           15 000         Да   \n",
       "2       01.01.2014 0:00:00  28.04.2016 0:00:00           15 000        Нет   \n",
       "3       01.01.2014 0:00:00  09.12.2016 0:00:00           15 000         Да   \n",
       "4       01.01.2016 0:00:00  27.01.2018 0:00:00           15 000         Да   \n",
       "...                    ...                 ...              ...        ...   \n",
       "119709  01.01.2015 0:00:00  17.10.2018 0:00:00           10 000         Да   \n",
       "119710  01.01.2014 0:00:00  18.11.2018 0:00:00           15 000         Да   \n",
       "119711  01.01.2016 0:00:00  01.04.2019 0:00:00           10 000         Да   \n",
       "119712  01.01.2013 0:00:00  15.02.2019 0:00:00           10 000         Да   \n",
       "119713  01.01.2016 0:00:00  09.08.2019 0:00:00           10 000         Да   \n",
       "\n",
       "        is_train  \n",
       "0           True  \n",
       "1           True  \n",
       "2           True  \n",
       "3           True  \n",
       "4           True  \n",
       "...          ...  \n",
       "119709     False  \n",
       "119710     False  \n",
       "119711     False  \n",
       "119712     False  \n",
       "119713     False  \n",
       "\n",
       "[119714 rows x 9 columns]"
      ]
     },
     "execution_count": 5,
     "metadata": {},
     "output_type": "execute_result"
    }
   ],
   "source": [
    "data"
   ]
  },
  {
   "cell_type": "code",
   "execution_count": 6,
   "metadata": {},
   "outputs": [
    {
     "name": "stdout",
     "output_type": "stream",
     "text": [
      "<class 'pandas.core.frame.DataFrame'>\n",
      "RangeIndex: 119714 entries, 0 to 119713\n",
      "Data columns (total 9 columns):\n",
      " #   Column            Non-Null Count   Dtype \n",
      "---  ------            --------------   ----- \n",
      " 0   model             119714 non-null  object\n",
      " 1   brand             119714 non-null  object\n",
      " 2   vin               119714 non-null  int64 \n",
      " 3   visit_mileage     119310 non-null  object\n",
      " 4   year              119714 non-null  object\n",
      " 5   visit_date        119714 non-null  object\n",
      " 6   service_interval  119714 non-null  object\n",
      " 7   is_service        119714 non-null  object\n",
      " 8   is_train          119714 non-null  bool  \n",
      "dtypes: bool(1), int64(1), object(7)\n",
      "memory usage: 7.4+ MB\n"
     ]
    }
   ],
   "source": [
    "data.info()"
   ]
  },
  {
   "cell_type": "markdown",
   "metadata": {},
   "source": [
    "Как видно, почти все признаки представлены как object. Давайте преобразуем их в соответствующие форматы. Сперва преобразуем категориальные признаки."
   ]
  },
  {
   "cell_type": "code",
   "execution_count": 7,
   "metadata": {},
   "outputs": [],
   "source": [
    "categorical_cols = ['model', 'brand', 'is_service']\n",
    "data[categorical_cols] = data[categorical_cols].astype('category')\n",
    "data['is_service'] = data['is_service'].map({'Да': 1, 'Нет': 0})"
   ]
  },
  {
   "cell_type": "markdown",
   "metadata": {},
   "source": [
    "Далее с датами. У признака year, думаю, целесообразно оставить только год."
   ]
  },
  {
   "cell_type": "code",
   "execution_count": 8,
   "metadata": {},
   "outputs": [],
   "source": [
    "data['visit_date'] = pd.to_datetime(data['visit_date'], format='%d.%m.%Y %H:%M:%S', errors='coerce')\n",
    "data['year'] = pd.to_datetime(data['year'], format='%d.%m.%Y %H:%M:%S', errors='coerce').dt.year"
   ]
  },
  {
   "cell_type": "markdown",
   "metadata": {},
   "source": [
    "Числовые признаки представлены как строка числа, разделённого пробелами по разрядам. Уберём их и преобразуем в числа."
   ]
  },
  {
   "cell_type": "code",
   "execution_count": 9,
   "metadata": {},
   "outputs": [],
   "source": [
    "data['visit_mileage'] = data['visit_mileage'].str.replace(r'\\s+', '', regex=True)\n",
    "data['visit_mileage'] = pd.to_numeric(data['visit_mileage'])\n",
    "\n",
    "data['service_interval'] = data['service_interval'].str.replace(r'\\s+', '', regex=True)\n",
    "data['service_interval'] = pd.to_numeric(data['service_interval'])"
   ]
  },
  {
   "cell_type": "markdown",
   "metadata": {},
   "source": [
    "Посмотрим есть ли пропущенные значения."
   ]
  },
  {
   "cell_type": "code",
   "execution_count": 10,
   "metadata": {},
   "outputs": [
    {
     "data": {
      "text/plain": [
       "model                 0\n",
       "brand                 0\n",
       "vin                   0\n",
       "visit_mileage       404\n",
       "year                250\n",
       "visit_date            0\n",
       "service_interval      0\n",
       "is_service            0\n",
       "is_train              0\n",
       "dtype: int64"
      ]
     },
     "execution_count": 10,
     "metadata": {},
     "output_type": "execute_result"
    }
   ],
   "source": [
    "data.isna().sum()"
   ]
  },
  {
   "cell_type": "markdown",
   "metadata": {},
   "source": [
    "В столбцах visit_mileage и year есть пропущенные значения. Так как их мало по сравнению с размерами таблицы, можно просто убрать строки с ними."
   ]
  },
  {
   "cell_type": "code",
   "execution_count": 11,
   "metadata": {},
   "outputs": [],
   "source": [
    "data = data.dropna()"
   ]
  },
  {
   "cell_type": "markdown",
   "metadata": {},
   "source": [
    "После этого можно преобразовать year из float в int, так как пропцщенные значения этому более не мешают."
   ]
  },
  {
   "cell_type": "code",
   "execution_count": 12,
   "metadata": {},
   "outputs": [
    {
     "name": "stderr",
     "output_type": "stream",
     "text": [
      "C:\\Users\\kento\\AppData\\Local\\Temp\\ipykernel_11304\\604412865.py:1: SettingWithCopyWarning: \n",
      "A value is trying to be set on a copy of a slice from a DataFrame.\n",
      "Try using .loc[row_indexer,col_indexer] = value instead\n",
      "\n",
      "See the caveats in the documentation: https://pandas.pydata.org/pandas-docs/stable/user_guide/indexing.html#returning-a-view-versus-a-copy\n",
      "  data['year'] = data['year'].astype('int64')\n"
     ]
    }
   ],
   "source": [
    "data['year'] = data['year'].astype('int64')"
   ]
  },
  {
   "cell_type": "markdown",
   "metadata": {},
   "source": [
    "Наконец посмотрим на результаты изменений."
   ]
  },
  {
   "cell_type": "code",
   "execution_count": 13,
   "metadata": {},
   "outputs": [
    {
     "data": {
      "text/html": [
       "<div>\n",
       "<style scoped>\n",
       "    .dataframe tbody tr th:only-of-type {\n",
       "        vertical-align: middle;\n",
       "    }\n",
       "\n",
       "    .dataframe tbody tr th {\n",
       "        vertical-align: top;\n",
       "    }\n",
       "\n",
       "    .dataframe thead th {\n",
       "        text-align: right;\n",
       "    }\n",
       "</style>\n",
       "<table border=\"1\" class=\"dataframe\">\n",
       "  <thead>\n",
       "    <tr style=\"text-align: right;\">\n",
       "      <th></th>\n",
       "      <th>model</th>\n",
       "      <th>brand</th>\n",
       "      <th>vin</th>\n",
       "      <th>visit_mileage</th>\n",
       "      <th>year</th>\n",
       "      <th>visit_date</th>\n",
       "      <th>service_interval</th>\n",
       "      <th>is_service</th>\n",
       "      <th>is_train</th>\n",
       "    </tr>\n",
       "  </thead>\n",
       "  <tbody>\n",
       "    <tr>\n",
       "      <th>0</th>\n",
       "      <td>LADA Largus Caravan (7м)</td>\n",
       "      <td>LADA</td>\n",
       "      <td>27837</td>\n",
       "      <td>29644.0</td>\n",
       "      <td>2014</td>\n",
       "      <td>2015-08-03</td>\n",
       "      <td>15000</td>\n",
       "      <td>0</td>\n",
       "      <td>True</td>\n",
       "    </tr>\n",
       "    <tr>\n",
       "      <th>1</th>\n",
       "      <td>LADA Largus Caravan (7м)</td>\n",
       "      <td>LADA</td>\n",
       "      <td>27837</td>\n",
       "      <td>29644.0</td>\n",
       "      <td>2014</td>\n",
       "      <td>2015-08-06</td>\n",
       "      <td>15000</td>\n",
       "      <td>1</td>\n",
       "      <td>True</td>\n",
       "    </tr>\n",
       "    <tr>\n",
       "      <th>2</th>\n",
       "      <td>LADA Largus Caravan (7м)</td>\n",
       "      <td>LADA</td>\n",
       "      <td>27837</td>\n",
       "      <td>62152.0</td>\n",
       "      <td>2014</td>\n",
       "      <td>2016-04-28</td>\n",
       "      <td>15000</td>\n",
       "      <td>0</td>\n",
       "      <td>True</td>\n",
       "    </tr>\n",
       "    <tr>\n",
       "      <th>3</th>\n",
       "      <td>LADA Largus Caravan (7м)</td>\n",
       "      <td>LADA</td>\n",
       "      <td>27837</td>\n",
       "      <td>104743.0</td>\n",
       "      <td>2014</td>\n",
       "      <td>2016-12-09</td>\n",
       "      <td>15000</td>\n",
       "      <td>1</td>\n",
       "      <td>True</td>\n",
       "    </tr>\n",
       "    <tr>\n",
       "      <th>4</th>\n",
       "      <td>УАЗ Patriot 3163</td>\n",
       "      <td>УАЗ</td>\n",
       "      <td>28253</td>\n",
       "      <td>29979.0</td>\n",
       "      <td>2016</td>\n",
       "      <td>2018-01-27</td>\n",
       "      <td>15000</td>\n",
       "      <td>1</td>\n",
       "      <td>True</td>\n",
       "    </tr>\n",
       "    <tr>\n",
       "      <th>...</th>\n",
       "      <td>...</td>\n",
       "      <td>...</td>\n",
       "      <td>...</td>\n",
       "      <td>...</td>\n",
       "      <td>...</td>\n",
       "      <td>...</td>\n",
       "      <td>...</td>\n",
       "      <td>...</td>\n",
       "      <td>...</td>\n",
       "    </tr>\n",
       "    <tr>\n",
       "      <th>119709</th>\n",
       "      <td>Toyota RAV 4 IV 5D</td>\n",
       "      <td>TOYOTA</td>\n",
       "      <td>8383</td>\n",
       "      <td>33521.0</td>\n",
       "      <td>2015</td>\n",
       "      <td>2018-10-17</td>\n",
       "      <td>10000</td>\n",
       "      <td>1</td>\n",
       "      <td>False</td>\n",
       "    </tr>\n",
       "    <tr>\n",
       "      <th>119710</th>\n",
       "      <td>Hyundai Solaris Sedan</td>\n",
       "      <td>Hyundai</td>\n",
       "      <td>39104</td>\n",
       "      <td>25552.0</td>\n",
       "      <td>2014</td>\n",
       "      <td>2018-11-18</td>\n",
       "      <td>15000</td>\n",
       "      <td>1</td>\n",
       "      <td>False</td>\n",
       "    </tr>\n",
       "    <tr>\n",
       "      <th>119711</th>\n",
       "      <td>Lexus NX 200T</td>\n",
       "      <td>LEXUS</td>\n",
       "      <td>5059</td>\n",
       "      <td>30099.0</td>\n",
       "      <td>2016</td>\n",
       "      <td>2019-04-01</td>\n",
       "      <td>10000</td>\n",
       "      <td>1</td>\n",
       "      <td>False</td>\n",
       "    </tr>\n",
       "    <tr>\n",
       "      <th>119712</th>\n",
       "      <td>Toyota Land Cruiser 200</td>\n",
       "      <td>TOYOTA</td>\n",
       "      <td>7698</td>\n",
       "      <td>189650.0</td>\n",
       "      <td>2013</td>\n",
       "      <td>2019-02-15</td>\n",
       "      <td>10000</td>\n",
       "      <td>1</td>\n",
       "      <td>False</td>\n",
       "    </tr>\n",
       "    <tr>\n",
       "      <th>119713</th>\n",
       "      <td>Toyota Land Cruiser 200</td>\n",
       "      <td>TOYOTA</td>\n",
       "      <td>7554</td>\n",
       "      <td>90239.0</td>\n",
       "      <td>2016</td>\n",
       "      <td>2019-08-09</td>\n",
       "      <td>10000</td>\n",
       "      <td>1</td>\n",
       "      <td>False</td>\n",
       "    </tr>\n",
       "  </tbody>\n",
       "</table>\n",
       "<p>119060 rows × 9 columns</p>\n",
       "</div>"
      ],
      "text/plain": [
       "                           model    brand    vin  visit_mileage  year  \\\n",
       "0       LADA Largus Caravan (7м)     LADA  27837        29644.0  2014   \n",
       "1       LADA Largus Caravan (7м)     LADA  27837        29644.0  2014   \n",
       "2       LADA Largus Caravan (7м)     LADA  27837        62152.0  2014   \n",
       "3       LADA Largus Caravan (7м)     LADA  27837       104743.0  2014   \n",
       "4               УАЗ Patriot 3163      УАЗ  28253        29979.0  2016   \n",
       "...                          ...      ...    ...            ...   ...   \n",
       "119709        Toyota RAV 4 IV 5D   TOYOTA   8383        33521.0  2015   \n",
       "119710     Hyundai Solaris Sedan  Hyundai  39104        25552.0  2014   \n",
       "119711             Lexus NX 200T    LEXUS   5059        30099.0  2016   \n",
       "119712   Toyota Land Cruiser 200   TOYOTA   7698       189650.0  2013   \n",
       "119713   Toyota Land Cruiser 200   TOYOTA   7554        90239.0  2016   \n",
       "\n",
       "       visit_date  service_interval is_service  is_train  \n",
       "0      2015-08-03             15000          0      True  \n",
       "1      2015-08-06             15000          1      True  \n",
       "2      2016-04-28             15000          0      True  \n",
       "3      2016-12-09             15000          1      True  \n",
       "4      2018-01-27             15000          1      True  \n",
       "...           ...               ...        ...       ...  \n",
       "119709 2018-10-17             10000          1     False  \n",
       "119710 2018-11-18             15000          1     False  \n",
       "119711 2019-04-01             10000          1     False  \n",
       "119712 2019-02-15             10000          1     False  \n",
       "119713 2019-08-09             10000          1     False  \n",
       "\n",
       "[119060 rows x 9 columns]"
      ]
     },
     "execution_count": 13,
     "metadata": {},
     "output_type": "execute_result"
    }
   ],
   "source": [
    "data"
   ]
  },
  {
   "cell_type": "code",
   "execution_count": 14,
   "metadata": {},
   "outputs": [
    {
     "name": "stdout",
     "output_type": "stream",
     "text": [
      "<class 'pandas.core.frame.DataFrame'>\n",
      "Index: 119060 entries, 0 to 119713\n",
      "Data columns (total 9 columns):\n",
      " #   Column            Non-Null Count   Dtype         \n",
      "---  ------            --------------   -----         \n",
      " 0   model             119060 non-null  category      \n",
      " 1   brand             119060 non-null  category      \n",
      " 2   vin               119060 non-null  int64         \n",
      " 3   visit_mileage     119060 non-null  float64       \n",
      " 4   year              119060 non-null  int64         \n",
      " 5   visit_date        119060 non-null  datetime64[ns]\n",
      " 6   service_interval  119060 non-null  int64         \n",
      " 7   is_service        119060 non-null  category      \n",
      " 8   is_train          119060 non-null  bool          \n",
      "dtypes: bool(1), category(3), datetime64[ns](1), float64(1), int64(3)\n",
      "memory usage: 6.0 MB\n"
     ]
    }
   ],
   "source": [
    "data.info()"
   ]
  },
  {
   "cell_type": "markdown",
   "metadata": {},
   "source": [
    "С этим уже удобнее работать и можно приступать к следующим этапам обработки. Под конец разделим на таблицу как было в начале."
   ]
  },
  {
   "cell_type": "code",
   "execution_count": 15,
   "metadata": {},
   "outputs": [],
   "source": [
    "train_data = data[data['is_train'] == True].drop(columns=['is_train'])\n",
    "test_data = data[data['is_train'] == False].drop(columns=['is_train'])"
   ]
  },
  {
   "cell_type": "markdown",
   "metadata": {},
   "source": [
    "## Создание новых признаков"
   ]
  },
  {
   "cell_type": "markdown",
   "metadata": {},
   "source": [
    "Так как нам надо предсказывать дату следующего ТО, то целесообразно будет убрать записи, которые не являются посещениями по ТО."
   ]
  },
  {
   "cell_type": "code",
   "execution_count": 16,
   "metadata": {},
   "outputs": [],
   "source": [
    "train_data = train_data[train_data['is_service'] == 1].drop(columns=['is_service'])"
   ]
  },
  {
   "cell_type": "markdown",
   "metadata": {},
   "source": [
    "Добавим признаки: среднее время между визитами и средний пробег между визитами. Они будут для каждой уникальной машины (по VIN-номеру). Для этого сначала для каждой записи вычислим время и пробег с последнего визита."
   ]
  },
  {
   "cell_type": "code",
   "execution_count": 26,
   "metadata": {},
   "outputs": [],
   "source": [
    "train_data = train_data.sort_values(['vin', 'visit_date'])\n",
    "train_data['days_since_service']=train_data.groupby('vin')['visit_date'].diff().dt.days\n",
    "train_data['mileage_since_service'] = train_data.groupby('vin')['visit_mileage'].diff()"
   ]
  },
  {
   "cell_type": "markdown",
   "metadata": {},
   "source": [
    "Для записей, у которых указана дата первого визита по ТО, сейчас этих неопределены. Заполним их нулями."
   ]
  },
  {
   "cell_type": "code",
   "execution_count": 28,
   "metadata": {},
   "outputs": [],
   "source": [
    "train_data['days_since_service'] = train_data['days_since_service'].fillna(0)\n",
    "train_data['mileage_since_service'] = train_data['mileage_since_service'].fillna(0)"
   ]
  },
  {
   "cell_type": "markdown",
   "metadata": {},
   "source": [
    "Перейдем к средним значениям"
   ]
  },
  {
   "cell_type": "code",
   "execution_count": 29,
   "metadata": {},
   "outputs": [],
   "source": [
    "vin_stats = train_data.groupby('vin').agg({\n",
    "    'days_since_service': 'mean',\n",
    "    'mileage_since_service': 'mean',\n",
    "}).rename(columns={\n",
    "    'days_since_service': 'avg_days',\n",
    "    'mileage_since_service': 'avg_mileage',\n",
    "}).reset_index()"
   ]
  },
  {
   "cell_type": "markdown",
   "metadata": {},
   "source": [
    "Объеденяем"
   ]
  },
  {
   "cell_type": "code",
   "execution_count": 31,
   "metadata": {},
   "outputs": [],
   "source": [
    "train_data = train_data.merge(vin_stats, on='vin', how='left')"
   ]
  },
  {
   "cell_type": "markdown",
   "metadata": {},
   "source": [
    "Удалим столбцы со днями и пробегом с последнего визита. Вообще они могли бы помочь в тренировке модели, но их нет в тестовой таблице."
   ]
  },
  {
   "cell_type": "code",
   "execution_count": 33,
   "metadata": {},
   "outputs": [],
   "source": [
    "train_data = train_data.drop(columns=['days_since_service', 'mileage_since_service'])"
   ]
  },
  {
   "cell_type": "markdown",
   "metadata": {},
   "source": [
    "## Обработка категориальных признаков"
   ]
  },
  {
   "cell_type": "markdown",
   "metadata": {},
   "source": [
    "Имеем два категориальных признака: модель и бренд автомобиля. Разберемся сначала с брендом, посмотрим сколько там уникальных значений."
   ]
  },
  {
   "cell_type": "code",
   "execution_count": 44,
   "metadata": {},
   "outputs": [
    {
     "data": {
      "text/plain": [
       "['TOYOTA', 'LEXUS', 'MERCEDES-BENZ', 'MITSUBISHI', 'INFINITI', ..., 'CHEVROLET NIVA', 'ISUZU', 'УАЗ', 'GENESIS', 'KIA']\n",
       "Length: 20\n",
       "Categories (20, object): ['BMW', 'CHEVROLET NIVA', 'Citroen', 'FORD', ..., 'Skoda', 'TOYOTA', 'ГАЗ', 'УАЗ']"
      ]
     },
     "execution_count": 44,
     "metadata": {},
     "output_type": "execute_result"
    }
   ],
   "source": [
    "train_data.brand.unique()"
   ]
  },
  {
   "cell_type": "markdown",
   "metadata": {},
   "source": [
    "Всего 20 уникальных значений. Это немного, поэтому будем использовать метод One-Hot Encoding."
   ]
  },
  {
   "cell_type": "code",
   "execution_count": 45,
   "metadata": {},
   "outputs": [],
   "source": [
    "train_data = pd.get_dummies(train_data, columns=['brand'])"
   ]
  },
  {
   "cell_type": "markdown",
   "metadata": {},
   "source": [
    "Посмотрим признак model"
   ]
  },
  {
   "cell_type": "code",
   "execution_count": 47,
   "metadata": {},
   "outputs": [
    {
     "data": {
      "text/plain": [
       "['Toyota Estima', 'Lexus RX III 350', 'Lexus RX II 330', 'Mercedes-Benz GL-klasse X164', 'Mercedes-Benz M-klasse AMG W166', ..., 'KIA Rio IV', 'Hyundai Solaris Sedan', 'Hyundai Solaris Hatchback', 'Hyundai Creta', 'Hyundai Solaris HCR']\n",
       "Length: 411\n",
       "Categories (411, object): ['172411', '38787-0000010-51', '38787-0000010-94', '38787-92', ..., 'УАЗ-315148', 'УАЗ-390945', 'УАЗ-390995', 'УАЗ-39623-СГР']"
      ]
     },
     "execution_count": 47,
     "metadata": {},
     "output_type": "execute_result"
    }
   ],
   "source": [
    "train_data.model.unique()"
   ]
  },
  {
   "cell_type": "markdown",
   "metadata": {},
   "source": [
    "Их достаточно много, поэтому используем метод Label Encoding"
   ]
  },
  {
   "cell_type": "code",
   "execution_count": 48,
   "metadata": {},
   "outputs": [],
   "source": [
    "from sklearn.preprocessing import LabelEncoder\n",
    "\n",
    "le = LabelEncoder()\n",
    "train_data['model'] = le.fit_transform(train_data['model'])"
   ]
  },
  {
   "cell_type": "markdown",
   "metadata": {},
   "source": [
    "## Масштабирование количественных признаков"
   ]
  },
  {
   "cell_type": "code",
   "execution_count": null,
   "metadata": {},
   "outputs": [],
   "source": []
  }
 ],
 "metadata": {
  "kernelspec": {
   "display_name": ".venv",
   "language": "python",
   "name": "python3"
  },
  "language_info": {
   "codemirror_mode": {
    "name": "ipython",
    "version": 3
   },
   "file_extension": ".py",
   "mimetype": "text/x-python",
   "name": "python",
   "nbconvert_exporter": "python",
   "pygments_lexer": "ipython3",
   "version": "3.12.0"
  }
 },
 "nbformat": 4,
 "nbformat_minor": 2
}
