{
 "cells": [
  {
   "cell_type": "code",
   "execution_count": 1,
   "metadata": {},
   "outputs": [],
   "source": [
    "import os\n",
    "import easyocr"
   ]
  },
  {
   "cell_type": "code",
   "execution_count": 7,
   "metadata": {},
   "outputs": [],
   "source": [
    "image_dir = \"images\"\n",
    "valid_extenision = {\".png\", \".jpg\", \".jpeg\"}\n",
    "images = [os.path.join(image_dir, f) for f in os.listdir(image_dir) if os.path.splitext(f)[1] in valid_extenision]"
   ]
  },
  {
   "cell_type": "code",
   "execution_count": 4,
   "metadata": {},
   "outputs": [
    {
     "name": "stderr",
     "output_type": "stream",
     "text": [
      "Neither CUDA nor MPS are available - defaulting to CPU. Note: This module is much faster with a GPU.\n",
      "Downloading detection model, please wait. This may take several minutes depending upon your network connection.\n"
     ]
    },
    {
     "name": "stdout",
     "output_type": "stream",
     "text": [
      "Progress: |██████████████████████████████████████████████████| 100.0% Complete"
     ]
    },
    {
     "name": "stderr",
     "output_type": "stream",
     "text": [
      "Downloading recognition model, please wait. This may take several minutes depending upon your network connection.\n"
     ]
    },
    {
     "name": "stdout",
     "output_type": "stream",
     "text": [
      "Progress: |██████████████████████████████████████████████████| 100.1% Complete"
     ]
    },
    {
     "name": "stderr",
     "output_type": "stream",
     "text": [
      "c:\\oleg-w570\\ds_test_assignment\\task3_text_recognition\\.venv\\Lib\\site-packages\\easyocr\\detection.py:78: FutureWarning: You are using `torch.load` with `weights_only=False` (the current default value), which uses the default pickle module implicitly. It is possible to construct malicious pickle data which will execute arbitrary code during unpickling (See https://github.com/pytorch/pytorch/blob/main/SECURITY.md#untrusted-models for more details). In a future release, the default value for `weights_only` will be flipped to `True`. This limits the functions that could be executed during unpickling. Arbitrary objects will no longer be allowed to be loaded via this mode unless they are explicitly allowlisted by the user via `torch.serialization.add_safe_globals`. We recommend you start setting `weights_only=True` for any use case where you don't have full control of the loaded file. Please open an issue on GitHub for any issues related to this experimental feature.\n",
      "  net.load_state_dict(copyStateDict(torch.load(trained_model, map_location=device)))\n",
      "c:\\oleg-w570\\ds_test_assignment\\task3_text_recognition\\.venv\\Lib\\site-packages\\easyocr\\recognition.py:169: FutureWarning: You are using `torch.load` with `weights_only=False` (the current default value), which uses the default pickle module implicitly. It is possible to construct malicious pickle data which will execute arbitrary code during unpickling (See https://github.com/pytorch/pytorch/blob/main/SECURITY.md#untrusted-models for more details). In a future release, the default value for `weights_only` will be flipped to `True`. This limits the functions that could be executed during unpickling. Arbitrary objects will no longer be allowed to be loaded via this mode unless they are explicitly allowlisted by the user via `torch.serialization.add_safe_globals`. We recommend you start setting `weights_only=True` for any use case where you don't have full control of the loaded file. Please open an issue on GitHub for any issues related to this experimental feature.\n",
      "  state_dict = torch.load(model_path, map_location=device)\n"
     ]
    }
   ],
   "source": [
    "reader = easyocr.Reader(['en', 'ru'])"
   ]
  },
  {
   "cell_type": "code",
   "execution_count": 8,
   "metadata": {},
   "outputs": [
    {
     "name": "stdout",
     "output_type": "stream",
     "text": [
      "OCR text for images\\sample1.jpg: ['27.12.2007 Hа Восточном факультете состоялась лскцня Липниского C,C: на тему Мотивацня слова Введенне новую этимологию (открытия Вашкевича H H:\". На лскцнн присутствовали   учсныс Флолотического Восточного Факультетов которыс ппиманнем выслушали сообщеннс: К сожалепню; n последнее время благодаря недобросопестной работе сми получают распространение всскозожныс около- псевдонаучныс теорин: \"Гсорня Вашкепича это нe просто волъная фантазия польного художника; агрессивная ндеология; дискреднтирующая науку как таковую: Поэтому ученыс СПбГУ счнтают свойм долгом выразнть свос отпошенне указанным открытням в слелующнх тезнсах:', 'Язык', 'уникальный нанболсе сложный из Феноменов человечсского   бытия; поэтому ннкакая Тсорня; даже решаюощая локальные задачн He можст претендовать на полноту; тсм болсс; сслн речь ндет ТакИх примитивных безосновательных обобщениях, которые делает Вашкевич', '2 Любая теорня зиждется на мстодс: Однако если какой-лнбо метод позцоляет прнхолить взанмоисключающий   рсзультатам; то это означяст лишь то; что проблема n самом методе: Метод Вашкевича понстине универсален; поскольку сго покощыо чожно доказать ябсолютно всс: что сго теория верна; что сго тсорня это epecк; что Вашкевнч агсHт спецслужб; что Вашкевича #e сушсствуст # TТ.. (o \"метоДе cм.   htp;fmnvashkevich narod ru , сM: тан яе; Нмя   Булла \"поисходит От русского булить; карм: от русского (# ааратном прачтешин} \\'paк: Tev арабского стрт трехi\" букалльно \\'раны\" Отсюола чнстас состошне челонск  натывлечасли рв;nоi; ат сложепия русского отрппяния ши {нст) u рaш ( Гехок) т c \\'Gз трехон', '\"Открытня\" нзвестного арабнста\" H: H: Вапкепича нe извсстнь 1 He ло7т бытъ нзвсстнке   современной наукс; поскольку он нe публнковал результаты свонъ \\'исследованнй\\' Hи однож нз сушестпующих научных изданнй', 'Уняверентет Hе подхолящее место лля тропаганлы \\'космически\" шизофренических н лженаучных теорнй:', 'Лац: кафедры нндиёской филологин C: 0. Цнеткова ст. преп  кафедры индиёской филологин C: С: Тавастшерна']\n",
      "OCR text for images\\sample2.jpg: ['4. Общая экзаменационная оценка проставляется только по предметам, ПО которым экзамеы проводятся письменно И устно (русский язык; лите: ратура, математика) По предметам; по которым проводится только уст- ный экзамен оценка проставляется В графе; отведенной для устного экза- мена; две другие графы прочеркиваются:', '5. Отметки, полученные учащнмися при повторной сдаче; проставля- ются экзаменатором на странице книжки успеваемости, соответствующей семестру прохождения данного предмета или раздела предмета, путем повторной записи наименования предмета на свободной строчке:', '6. Оценки По поведению проставляются классным руководителем пос- ле персонального   обсуждения педагогическим советом поведения учащих- ся за семестр', '7. Подпись родителей ИЛИ лИЦ, их заменяющих, для учащихся; до- стигших 18 лет, не обязательна:', '8 Выдача дубликата книжки успеваемости производится только по распоряжению директора или его заместителя ПО учебной части', 'Ha титульной странице дубликата книжки успеваемости делается надпись кдубликатх.', 'Bce данные об успеваемости учащихся за весь период обучения до момента выдачи ему дубликата вносятся B дубликат книжки на основа - 46']\n",
      "OCR text for images\\sample3.jpg: ['КОПИЯ', 'Дело Ng 2-5420/2013', 'Мотивированное решение изготовлено 23.10.2013г.', 'РЕШЕНИЕ', 'Именем Российской Федерации', 'Г Екатеринбург 18 октября 2013 года Верх-Исетский районный суд г. Екатеринбурга; B составе председательствующего судьи Савельевой Е.H: 5 9 при секретаре судебного заседания  Завьяловой АГ: рассмотрев B открытом судебном заседании гражданское дело ПО заявлению Некоммерческой   организации Фонд <B защиту прав  заключенных ;  Ваганова  Виталия Валерьевича;   Хусаинова Руслана Ахметовича 0 признании незаконными действий; бездействия государственного органа, должностного лица,', 'УСТАНОВИЛ: Заявители некоммерческая организация   Фонд <B защиту прав заключенных > Ваганов B.B. Хусаинов P A. обратились с указанным заявлением в обоснование которого указали; что 17.06.2013 и 18.06.2013 в соответствии c Уставной деятельностью HO Фонд <B защиту прав заключенных> полномочный представитель данной правозащитной организации Захарова ЛВ: прибыла B ФКУ ИК-62 ГУФСИН России ПО Свердловской области для   встречи С осужденными Хусаиновым РА  , Абдуллаевым   Русланом Азер- Оглы; Вагановым Виталием Валерьевичем; Сахаровым Виктором Николаевичем в целях оказания им юридической помощи в соответствии c ч 4 ст. 89 УИК РФ, для чего подала соответствующее заявление на ИМЯ начальника данного исправительного   учреждения, которые были зарегистрированы B установленном законом порядке B канцелярии ФКУ ИК-62 Вместе С тем; исполняющий обязанности начальника ФКУ ИК-62 Святодухов АЮ на заявлении Захаровой ЛВ. поставил резолюцию об отказе B свидании С осужденными B свЯЗИ с тем; ЧТО заявлений об оказании юридической помощи OТ вышеуказанных осужденных К сотрудникам ФКУ ИК-62 ГУФСИН России ПО Свердловской области не поступало. При поступлении заявлений ОТ осужденных на оказание юридической помощи в администрацию ФКУ ИК-62, в адрес Захаровой ЛВ: будет сообщено в установленные законом сроки. Представители некоммерческой организации Фонд <B защиту прав заключенных> полагают, что действия исполняющего обязанности начальника ФКУ ИК-62 Святодухова А.Ю: по отказу в предоставлении свидания c осужденными для оказания им юридической помощи являются незаконными и необоснованными, при этом ссылаются на положения Конституции Российской Федерации, Уголовно-исполнительного кодекса Российской Федерации, Правила внутреннего распорядка исправительных учреждений; утвержденных приказом Минюста Российской Федерации от 03 ноября 2005 года Ng 205, Постановление Конституционного Суда Российской Федерации от 26 декабря 2003 года Ng 20-П. Учитывая, что   права заявителей нарушены, как на оказание, так и на получение юридической помощи, заявители просили суд: 1) признать незаконными действия исполняющего  обязанности начальника ФКУ ИК-62 ГУФСИН России по Свердловской области Святодухова Александра Юрьевича по воспрепятствованию 17 иЮня 2013 года и 18 ИЮНя 2013 года B реализации некоммерческой организации Фонд кВ защиту прав заключенных> своих уставных целей; а именно, по воспрепятствованию во встрече (свидании) полномочного представителя HO Фонд <B защиту прав заключенных > Захаровой   Ларисе   Викторовне И представителя осужденного Ваганова B.B: по доверенности Захаровой ЛВ: c осужденными Хусаиновым Русланом Ахметовичем; Абдуллаевым Русланом Азер-оглы Вагановым Виталием Валерьевичем; Сахаровым Виктором Николаевичем B целях оказания ИМ']\n",
      "OCR text for images\\sample4.jpg: ['Public Footpath to Elphinstone Scottish Rights of WNay Society', 'Public Footpath to Wallyford Scottish Rights of Way Society']\n"
     ]
    }
   ],
   "source": [
    "for img in images:\n",
    "    result = reader.readtext(img, paragraph=True, detail=0)\n",
    "    print(f\"OCR text for {img}: {result}\")"
   ]
  },
  {
   "cell_type": "code",
   "execution_count": null,
   "metadata": {},
   "outputs": [],
   "source": []
  }
 ],
 "metadata": {
  "kernelspec": {
   "display_name": ".venv",
   "language": "python",
   "name": "python3"
  },
  "language_info": {
   "codemirror_mode": {
    "name": "ipython",
    "version": 3
   },
   "file_extension": ".py",
   "mimetype": "text/x-python",
   "name": "python",
   "nbconvert_exporter": "python",
   "pygments_lexer": "ipython3",
   "version": "3.12.1"
  }
 },
 "nbformat": 4,
 "nbformat_minor": 2
}
