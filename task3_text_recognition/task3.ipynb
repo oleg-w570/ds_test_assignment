{
 "cells": [
  {
   "cell_type": "code",
   "execution_count": 2,
   "metadata": {},
   "outputs": [],
   "source": [
    "import os\n",
    "import easyocr"
   ]
  },
  {
   "cell_type": "markdown",
   "metadata": {},
   "source": [
    "Для распознования текста на изображении будем использовать библиотеку easyocr, так как она проста в использовании и её функциональности достаточно для данной задачи"
   ]
  },
  {
   "cell_type": "markdown",
   "metadata": {},
   "source": [
    "В папке images хранятся несколько изображений для распознования, их будем использовать в качестве примера"
   ]
  },
  {
   "cell_type": "code",
   "execution_count": 3,
   "metadata": {},
   "outputs": [],
   "source": [
    "image_dir = \"images\"\n",
    "valid_extenision = {\".png\", \".jpg\", \".jpeg\"}\n",
    "images = [os.path.join(image_dir, f) for f in os.listdir(image_dir) if os.path.splitext(f)[1] in valid_extenision]"
   ]
  },
  {
   "cell_type": "markdown",
   "metadata": {},
   "source": [
    "Создаём класс для чтения изображений и распознования текста на них. В качестве параметров передаём список языков, которые будут распозноваться."
   ]
  },
  {
   "cell_type": "code",
   "execution_count": 4,
   "metadata": {},
   "outputs": [
    {
     "name": "stderr",
     "output_type": "stream",
     "text": [
      "Using CPU. Note: This module is much faster with a GPU.\n",
      "c:\\oleg-w570\\ds_test_assignment\\task3_text_recognition\\.venv\\Lib\\site-packages\\easyocr\\detection.py:78: FutureWarning: You are using `torch.load` with `weights_only=False` (the current default value), which uses the default pickle module implicitly. It is possible to construct malicious pickle data which will execute arbitrary code during unpickling (See https://github.com/pytorch/pytorch/blob/main/SECURITY.md#untrusted-models for more details). In a future release, the default value for `weights_only` will be flipped to `True`. This limits the functions that could be executed during unpickling. Arbitrary objects will no longer be allowed to be loaded via this mode unless they are explicitly allowlisted by the user via `torch.serialization.add_safe_globals`. We recommend you start setting `weights_only=True` for any use case where you don't have full control of the loaded file. Please open an issue on GitHub for any issues related to this experimental feature.\n",
      "  net.load_state_dict(copyStateDict(torch.load(trained_model, map_location=device)))\n",
      "c:\\oleg-w570\\ds_test_assignment\\task3_text_recognition\\.venv\\Lib\\site-packages\\easyocr\\recognition.py:169: FutureWarning: You are using `torch.load` with `weights_only=False` (the current default value), which uses the default pickle module implicitly. It is possible to construct malicious pickle data which will execute arbitrary code during unpickling (See https://github.com/pytorch/pytorch/blob/main/SECURITY.md#untrusted-models for more details). In a future release, the default value for `weights_only` will be flipped to `True`. This limits the functions that could be executed during unpickling. Arbitrary objects will no longer be allowed to be loaded via this mode unless they are explicitly allowlisted by the user via `torch.serialization.add_safe_globals`. We recommend you start setting `weights_only=True` for any use case where you don't have full control of the loaded file. Please open an issue on GitHub for any issues related to this experimental feature.\n",
      "  state_dict = torch.load(model_path, map_location=device)\n"
     ]
    }
   ],
   "source": [
    "reader = easyocr.Reader(['en', 'ru'])"
   ]
  },
  {
   "cell_type": "markdown",
   "metadata": {},
   "source": [
    "Прочитаем текст с каждого изображения. В параметрах метода укажем, что текст нужно группировать по параграфам и что детальная информация о распозновании (места, где текст распознан, и точность распознования) не нужна."
   ]
  },
  {
   "cell_type": "code",
   "execution_count": 5,
   "metadata": {},
   "outputs": [
    {
     "name": "stdout",
     "output_type": "stream",
     "text": [
      "Текст успешно распознан с изображения: images\\sample1.jpg\n",
      "Текст успешно распознан с изображения: images\\sample2.jpg\n",
      "Текст успешно распознан с изображения: images\\sample3.jpg\n",
      "Текст успешно распознан с изображения: images\\sample4.jpg\n"
     ]
    }
   ],
   "source": [
    "results = {}\n",
    "for img in images:\n",
    "    result = reader.readtext(img, paragraph=True, detail=0)\n",
    "    results[os.path.basename(img)] = result\n",
    "    print(f\"Текст успешно распознан с изображения: {img}\")"
   ]
  },
  {
   "cell_type": "markdown",
   "metadata": {},
   "source": [
    "Сохраним распознаный текст в текстовые файлы"
   ]
  },
  {
   "cell_type": "code",
   "execution_count": 8,
   "metadata": {},
   "outputs": [],
   "source": [
    "result_dir = \"results\"\n",
    "for filename, text in results.items():\n",
    "    output_path = os.path.join(result_dir, os.path.splitext(filename)[0] + \".txt\")\n",
    "    with open(output_path, 'w', encoding='utf-8') as f:\n",
    "        for line in text:\n",
    "            f.write(line + '\\n')"
   ]
  }
 ],
 "metadata": {
  "kernelspec": {
   "display_name": ".venv",
   "language": "python",
   "name": "python3"
  },
  "language_info": {
   "codemirror_mode": {
    "name": "ipython",
    "version": 3
   },
   "file_extension": ".py",
   "mimetype": "text/x-python",
   "name": "python",
   "nbconvert_exporter": "python",
   "pygments_lexer": "ipython3",
   "version": "3.12.1"
  }
 },
 "nbformat": 4,
 "nbformat_minor": 2
}
